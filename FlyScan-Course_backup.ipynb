{
 "cells": [
  {
   "cell_type": "markdown",
   "metadata": {},
   "source": [
    "## Studying *Drosophila* egg-laying behavior using automated image analysis with Python (FlyScan)"
   ]
  },
  {
   "cell_type": "markdown",
   "metadata": {},
   "source": [
    "### Introduction"
   ]
  },
  {
   "cell_type": "markdown",
   "metadata": {
    "tags": []
   },
   "source": [
    "---\n",
    "### 1) Manage paths with pathlib"
   ]
  },
  {
   "cell_type": "markdown",
   "metadata": {},
   "source": [
    "Here we will use [pathlib library](https://docs.python.org/3/library/pathlib.html) to simplify path management and avoid incompatibility between operating systems.  "
   ]
  },
  {
   "cell_type": "markdown",
   "metadata": {},
   "source": [
    "Import `Path` module from `pathlib` library and check path of current directory using `Path.cwd()`:"
   ]
  },
  {
   "cell_type": "code",
   "execution_count": 1,
   "metadata": {},
   "outputs": [
    {
     "name": "stdout",
     "output_type": "stream",
     "text": [
      "E:\\3-GitHub_BDehapiot\\Python_ImageProcessing_2022\n"
     ]
    }
   ],
   "source": [
    "from pathlib import Path\n",
    "print(Path.cwd())"
   ]
  },
  {
   "cell_type": "markdown",
   "metadata": {},
   "source": [
    "This should output the complete path toward the downloaded \"Python_ImageProcessing_2022\" directory.  \n",
    "If not, the notebook was probably started from the wrong directory."
   ]
  },
  {
   "cell_type": "markdown",
   "metadata": {},
   "source": [
    "Next, we would like to check if the \"fly_images\" folder exists in current directory.  \n",
    "To do that, first create a new path by combining the current path with the folder name:"
   ]
  },
  {
   "cell_type": "code",
   "execution_count": 2,
   "metadata": {},
   "outputs": [
    {
     "name": "stdout",
     "output_type": "stream",
     "text": [
      "fly_images\n"
     ]
    }
   ],
   "source": [
    "print(Path('fly_images'))"
   ]
  },
  {
   "cell_type": "markdown",
   "metadata": {},
   "source": [
    "Since pathlib handles paths as objects and not as strings, you cannot directly output the newly created path using the `print` function.  \n",
    "Use pathlib `resolve()` method instead:"
   ]
  },
  {
   "cell_type": "code",
   "execution_count": 3,
   "metadata": {},
   "outputs": [
    {
     "name": "stdout",
     "output_type": "stream",
     "text": [
      "E:\\3-GitHub_BDehapiot\\Python_ImageProcessing_2022\\fly_images\n"
     ]
    }
   ],
   "source": [
    "print(Path('fly_images').resolve())"
   ]
  },
  {
   "cell_type": "markdown",
   "metadata": {},
   "source": [
    "Now, to check if the newly created path lead to an existing folder, we will use the pathlib `exists()` method:"
   ]
  },
  {
   "cell_type": "code",
   "execution_count": 4,
   "metadata": {},
   "outputs": [
    {
     "name": "stdout",
     "output_type": "stream",
     "text": [
      "True\n"
     ]
    }
   ],
   "source": [
    "print(Path('fly_images').exists())"
   ]
  },
  {
   "cell_type": "markdown",
   "metadata": {},
   "source": [
    "Finally, we will create two lists containing 1) paths and 2) names of the files contain in the \"fly_images\" folder.   \n",
    "This can be done by iterating through \"fly_images\" using the pathlib `iterdir()` method: "
   ]
  },
  {
   "cell_type": "code",
   "execution_count": 5,
   "metadata": {},
   "outputs": [],
   "source": [
    "image_paths = []\n",
    "image_names = []\n",
    "for path in Path('fly_images').iterdir():\n",
    "    image_paths.append(path)\n",
    "    image_names.append(path.name) # name attribute of the path object"
   ]
  },
  {
   "cell_type": "markdown",
   "metadata": {},
   "source": [
    "**Exercice 1**  \n",
    "1) Create folders that do not already exist  \n",
    "2) Displace image files using pathlib"
   ]
  },
  {
   "cell_type": "markdown",
   "metadata": {},
   "source": [
    "---\n",
    "### 2) Import images "
   ]
  },
  {
   "cell_type": "markdown",
   "metadata": {},
   "source": [
    "Now that our image paths have been stored in \"image_paths\", let's import the first image using the `io.imread` function from [skimage library](https://scikit-image.org/). "
   ]
  },
  {
   "cell_type": "code",
   "execution_count": 6,
   "metadata": {},
   "outputs": [],
   "source": [
    "from skimage import io\n",
    "im_first = io.imread(image_paths[0])"
   ]
  },
  {
   "cell_type": "markdown",
   "metadata": {},
   "source": [
    "This import the image as a numpy array, which is a handy format to manipulate images in Python.    \n",
    "Check \"im_first\" type using the `type` function:"
   ]
  },
  {
   "cell_type": "code",
   "execution_count": 7,
   "metadata": {},
   "outputs": [
    {
     "name": "stdout",
     "output_type": "stream",
     "text": [
      "<class 'numpy.ndarray'>\n"
     ]
    }
   ],
   "source": [
    "print(type(im_first))"
   ]
  },
  {
   "cell_type": "markdown",
   "metadata": {},
   "source": [
    "Next, determine height and width of \"im_first\" using the `shape` attribute."
   ]
  },
  {
   "cell_type": "code",
   "execution_count": 8,
   "metadata": {},
   "outputs": [
    {
     "name": "stdout",
     "output_type": "stream",
     "text": [
      "(480, 640)\n"
     ]
    }
   ],
   "source": [
    "print(im_first.shape) # 2 elements tuple\n",
    "im_height = im_first.shape[0]\n",
    "im_width = im_first.shape[1]"
   ]
  },
  {
   "cell_type": "markdown",
   "metadata": {},
   "source": [
    "Finally, count the total number of images using the `len` function on \"image_paths\".   "
   ]
  },
  {
   "cell_type": "code",
   "execution_count": 9,
   "metadata": {},
   "outputs": [
    {
     "name": "stdout",
     "output_type": "stream",
     "text": [
      "200\n"
     ]
    }
   ],
   "source": [
    "im_count = len(image_paths)\n",
    "print(im_count)"
   ]
  },
  {
   "cell_type": "markdown",
   "metadata": {},
   "source": [
    "**Exercice 2**"
   ]
  },
  {
   "cell_type": "markdown",
   "metadata": {},
   "source": [
    "Now that we know the shape and the total number of images, import all images contained in \"fly_images\" folder as a 3D numpy array.  \n",
    "To do this, create a zero array with `numpy` and fill it with imported images."
   ]
  },
  {
   "cell_type": "code",
   "execution_count": 10,
   "metadata": {},
   "outputs": [],
   "source": [
    "import numpy as np\n",
    "# Import all images in a 3D Numpy array of expected shape: (number of image, height, width)\n",
    "\n",
    "# Correction\n",
    "im_all = np.zeros([im_count, im_height, im_width], dtype='uint8')\n",
    "for i, path in enumerate(image_paths):   \n",
    "    im_all[i,...] = io.imread(path)  "
   ]
  },
  {
   "cell_type": "markdown",
   "metadata": {},
   "source": [
    "Visualize the 3D array as a time series in napari. "
   ]
  },
  {
   "cell_type": "code",
   "execution_count": 11,
   "metadata": {},
   "outputs": [],
   "source": [
    "import napari\n",
    "viewer = napari.view_image(im_all)"
   ]
  },
  {
   "cell_type": "markdown",
   "metadata": {},
   "source": [
    "---\n",
    "### 3) Process images "
   ]
  },
  {
   "cell_type": "markdown",
   "metadata": {},
   "source": [
    "The imported images show flies moving around a confined chamber.  \n",
    "On each side, there is an area that can be coated with specific molecules to study fly egg-laying behavior.  \n",
    "In the center, there is a hole that is necessary to ventilate the chamber."
   ]
  },
  {
   "cell_type": "markdown",
   "metadata": {},
   "source": [
    "<!-- ![image](stock_files\\fly_chamber_diagram.jpg)   -->\n",
    "<img src=\"stock_files\\fly_chamber_diagram.jpg\" width=480 height=300 />"
   ]
  },
  {
   "cell_type": "markdown",
   "metadata": {},
   "source": [
    "The goal of the analyis will be to "
   ]
  }
 ],
 "metadata": {
  "kernelspec": {
   "display_name": "Python 3 (ipykernel)",
   "language": "python",
   "name": "python3"
  },
  "language_info": {
   "codemirror_mode": {
    "name": "ipython",
    "version": 3
   },
   "file_extension": ".py",
   "mimetype": "text/x-python",
   "name": "python",
   "nbconvert_exporter": "python",
   "pygments_lexer": "ipython3",
   "version": "3.8.13"
  }
 },
 "nbformat": 4,
 "nbformat_minor": 4
}
