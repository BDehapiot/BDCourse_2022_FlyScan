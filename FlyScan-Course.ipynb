{
 "cells": [
  {
   "cell_type": "markdown",
   "metadata": {},
   "source": [
    "## Studying *Drosophila* egg-laying behavior using automated image analysis with Python (FlyScan-Course)"
   ]
  },
  {
   "cell_type": "markdown",
   "metadata": {},
   "source": [
    "---\n",
    "### Introduction"
   ]
  },
  {
   "cell_type": "markdown",
   "metadata": {},
   "source": [
    "The goal of this course is to set up an automated procedure in Python to study the egg-laying behavior of *Drosophila*.  \n",
    "In the working directory you will find the \"*fly_images*\" folder which contains all images that will be analysed during the course.  \n",
    "The images show flies confined in a chamber with two egg-laying areas coated with different substrates (see picture below).   \n",
    "\n",
    "**Our task will be to automatically track flies within the chamber and determine if they preferentially stay in one of the egg-laying areas.**"
   ]
  },
  {
   "cell_type": "markdown",
   "metadata": {},
   "source": [
    "<img src=\"stock_files\\fly_chamber_diagram.jpg\" width=480 height=300 />"
   ]
  },
  {
   "cell_type": "markdown",
   "metadata": {
    "tags": []
   },
   "source": [
    "---\n",
    "### 1) Manage paths"
   ]
  },
  {
   "cell_type": "markdown",
   "metadata": {},
   "source": [
    "Here we will use [pathlib](https://docs.python.org/3/library/pathlib.html) library to simplify path management and avoid incompatibility between operating systems.  "
   ]
  },
  {
   "cell_type": "markdown",
   "metadata": {},
   "source": [
    "**1.1)** Import `Path` module from `pathlib` library and check the path to the current directory using `Path.cwd()`:"
   ]
  },
  {
   "cell_type": "code",
   "execution_count": null,
   "metadata": {},
   "outputs": [],
   "source": [
    "from pathlib import Path\n",
    "print(Path.cwd())"
   ]
  },
  {
   "cell_type": "markdown",
   "metadata": {},
   "source": [
    "This command should output the complete path to the downloaded directory.  \n",
    "Otherwise, the notebook was probably started from the wrong directory   "
   ]
  },
  {
   "cell_type": "markdown",
   "metadata": {},
   "source": [
    "**1.2)** Create a new path toward the \"*fly_images*\" folder contained in the downloaded directory: "
   ]
  },
  {
   "cell_type": "code",
   "execution_count": null,
   "metadata": {},
   "outputs": [],
   "source": [
    "im_path = Path('fly_images')"
   ]
  },
  {
   "cell_type": "markdown",
   "metadata": {},
   "source": [
    "Using this syntax, pathlib create a path object (or class) that can eventually be assigned to a variable (e.g. \"*im_path*\")  \n",
    "You can retrieve the full path toward \"*fly_images*\" folder by using the `resolve()` method:"
   ]
  },
  {
   "cell_type": "code",
   "execution_count": null,
   "metadata": {},
   "outputs": [],
   "source": [
    "print(im_path) # relative path\n",
    "print(im_path.resolve()) # full path\n",
    "print(Path('fly_images').resolve()) # full path"
   ]
  },
  {
   "cell_type": "markdown",
   "metadata": {},
   "source": [
    "**1.3)** Use the `iterdir()` method to extract the paths of images contained in the \"*fly_images*\" folder: "
   ]
  },
  {
   "cell_type": "code",
   "execution_count": null,
   "metadata": {},
   "outputs": [],
   "source": [
    "im_paths = [] # create an empty list\n",
    "for path in Path('fly_images').iterdir():\n",
    "    im_paths.append(path)"
   ]
  },
  {
   "cell_type": "markdown",
   "metadata": {},
   "source": [
    "Print path info for the first image:"
   ]
  },
  {
   "cell_type": "code",
   "execution_count": null,
   "metadata": {},
   "outputs": [],
   "source": [
    "print(im_paths[0]) # relative path \n",
    "print(im_paths[0].resolve()) # full path"
   ]
  },
  {
   "cell_type": "markdown",
   "metadata": {},
   "source": [
    "Note that you can use attributes of the path object to retrieve informations about your image: "
   ]
  },
  {
   "cell_type": "code",
   "execution_count": null,
   "metadata": {},
   "outputs": [],
   "source": [
    "print(im_paths[0].name) # name\n",
    "print(im_paths[0].stem) # name without extension\n",
    "print(im_paths[0].suffix) # extension only"
   ]
  },
  {
   "cell_type": "markdown",
   "metadata": {},
   "source": [
    "---\n",
    "### 2) Import images "
   ]
  },
  {
   "cell_type": "markdown",
   "metadata": {},
   "source": [
    "**2.1)** Now that our image paths have been stored in \"*im_paths*\" , import the first image using the `io.imread` function from [skimage](https://scikit-image.org/) library:"
   ]
  },
  {
   "cell_type": "code",
   "execution_count": null,
   "metadata": {},
   "outputs": [],
   "source": [
    "from skimage import io\n",
    "im_first = io.imread(im_paths[0])"
   ]
  },
  {
   "cell_type": "markdown",
   "metadata": {},
   "source": [
    "This command import the first image as a numpy array, which is a handy format to manipulate images in Python.    \n",
    "Check \"im_first\" type using the `type` function:"
   ]
  },
  {
   "cell_type": "code",
   "execution_count": null,
   "metadata": {},
   "outputs": [],
   "source": [
    "print(type(im_first))"
   ]
  },
  {
   "cell_type": "markdown",
   "metadata": {},
   "source": [
    "**2.2)** Determine height and width of \"*im_first*\" using the `shape` attribute:"
   ]
  },
  {
   "cell_type": "code",
   "execution_count": null,
   "metadata": {},
   "outputs": [],
   "source": [
    "print(im_first.shape) # 2 elements tuple\n",
    "im_height = im_first.shape[0]\n",
    "im_width = im_first.shape[1]"
   ]
  },
  {
   "cell_type": "markdown",
   "metadata": {},
   "source": [
    "**2.3)** Count the total number of images using the `len` function on \"image_paths\":  "
   ]
  },
  {
   "cell_type": "code",
   "execution_count": null,
   "metadata": {},
   "outputs": [],
   "source": [
    "im_count = len(im_paths)\n",
    "print(im_count)"
   ]
  },
  {
   "cell_type": "markdown",
   "metadata": {},
   "source": [
    "### <span style=\"color:SteelBlue\"> Exercice 1"
   ]
  },
  {
   "cell_type": "markdown",
   "metadata": {},
   "source": [
    "In this exercice you will import all images contained in \"*fly_images*\" folder as a 3D numpy array named \"*im_all*\".  \n",
    "- Hint: create a zero array with the `np.zeros` function and fill it with imported images."
   ]
  },
  {
   "cell_type": "code",
   "execution_count": null,
   "metadata": {},
   "outputs": [],
   "source": [
    "import numpy as np"
   ]
  },
  {
   "cell_type": "code",
   "execution_count": null,
   "metadata": {},
   "outputs": [],
   "source": [
    "# 1) create a zero array with shape (im_count, im_height, im_width)\n",
    "# 2) fill this array with imported images"
   ]
  },
  {
   "cell_type": "code",
   "execution_count": null,
   "metadata": {},
   "outputs": [],
   "source": [
    "# correction\n",
    "im_all = np.zeros([im_count, im_height, im_width], dtype='uint8')\n",
    "for i, path in enumerate(im_paths):   \n",
    "    im_all[i,...] = io.imread(path)  "
   ]
  },
  {
   "cell_type": "markdown",
   "metadata": {},
   "source": [
    "You can visualize the 3D array as a time series in napari: "
   ]
  },
  {
   "cell_type": "code",
   "execution_count": null,
   "metadata": {},
   "outputs": [],
   "source": [
    "import napari\n",
    "viewer = napari.view_image(im_all)"
   ]
  },
  {
   "cell_type": "markdown",
   "metadata": {},
   "source": [
    "---\n",
    "### 3) Fly segmentation"
   ]
  },
  {
   "cell_type": "markdown",
   "metadata": {},
   "source": [
    "In this section, we will design a series of operations to automatically segment flies from the static background.  \n",
    "To do this, we will process images using the [numpy](https://numpy.org/doc/stable/user/index.html) and [skimage](https://scikit-image.org/) libraries and display the results using [matplotlib](https://matplotlib.org/stable/plot_types/index#).   \n",
    "Here is an example to get started:"
   ]
  },
  {
   "cell_type": "markdown",
   "metadata": {},
   "source": [
    "**3.1)** Compute the min and the max projection (over images) of \"*im_all*\" and display the results with matplotlib: "
   ]
  },
  {
   "cell_type": "code",
   "execution_count": null,
   "metadata": {},
   "outputs": [],
   "source": [
    "import matplotlib.pyplot as plt\n",
    "\n",
    "# compute min and max projections\n",
    "im_all_min = np.min(im_all, axis=0)\n",
    "im_all_max = np.max(im_all, axis=0)\n",
    "\n",
    "# display results with matplotlib\n",
    "fig, ax = plt.subplots(nrows=1, ncols=2, figsize=(12, 12))\n",
    "ax[0].imshow(im_all_min, cmap='gray')\n",
    "ax[0].set_title('min projection')\n",
    "ax[1].imshow(im_all_max, cmap='gray')\n",
    "ax[1].set_title('max projection')\n",
    "plt.show()"
   ]
  },
  {
   "cell_type": "markdown",
   "metadata": {},
   "source": [
    "\n",
    "### <span style=\"color:SteelBlue\"> Exercice 2"
   ]
  },
  {
   "cell_type": "markdown",
   "metadata": {},
   "source": [
    "In this exercice you will compute the median projection of \"*im_all*\" and subtract it to \"*im_all*\" itself.  \n",
    "You will then display the result for the first image using matplotlib.  \n",
    "- Hint #1: use `np.median` and `np.subtract` functions.  \n",
    "- Hint #2: do not modify the \"*im_all*\" variable as we will use it later."
   ]
  },
  {
   "cell_type": "code",
   "execution_count": null,
   "metadata": {},
   "outputs": [],
   "source": [
    "# 1) compute median projection (im_all_median)\n",
    "# 2) subtract median projection from raw images (im_all_sub)\n",
    "# 3) display result for the first image in matplotlib"
   ]
  },
  {
   "cell_type": "code",
   "execution_count": null,
   "metadata": {},
   "outputs": [],
   "source": [
    "# Correction\n",
    "\n",
    "# compute median projection\n",
    "im_all_median = np.median(im_all, axis=0)\n",
    "\n",
    "# subtract median projection from raw images\n",
    "im_all_sub = np.subtract(im_all, im_all_median)\n",
    "\n",
    "# display result for the first image in matplotlib\n",
    "fig, ax = plt.subplots(nrows=1, ncols=3, figsize=(12, 12))\n",
    "ax[0].imshow(im_all[0], cmap='gray')\n",
    "ax[0].set_title('raw')\n",
    "ax[1].imshow(im_all_median, cmap='gray')\n",
    "ax[1].set_title('median projection')\n",
    "ax[2].imshow(im_all_sub[0], cmap='gray')\n",
    "ax[2].set_title('raw - median')\n",
    "plt.show()"
   ]
  },
  {
   "cell_type": "markdown",
   "metadata": {},
   "source": [
    "For convenience, invert \"*im_all_sub*\" to make fly pixels brighter than the backgorund. "
   ]
  },
  {
   "cell_type": "code",
   "execution_count": null,
   "metadata": {},
   "outputs": [],
   "source": [
    "from skimage.util import invert\n",
    "\n",
    "im_all_sub = invert(im_all_sub)\n",
    "plt.imshow(im_all_sub[0], cmap='gray')\n",
    "plt.show()"
   ]
  },
  {
   "cell_type": "markdown",
   "metadata": {},
   "source": [
    "The next step will consists of separating pixels belonging to flies from those belonging to the background.  \n",
    "Here, we will first apply a threshold, based on pixel intensity, to \"*im_all_sub*\". "
   ]
  },
  {
   "cell_type": "markdown",
   "metadata": {},
   "source": [
    "**3.2)** Determine a threshold value using the `threshold_yen` function and use it to create a binary mask:"
   ]
  },
  {
   "cell_type": "code",
   "execution_count": null,
   "metadata": {},
   "outputs": [],
   "source": [
    "from skimage.filters import threshold_yen\n",
    "\n",
    "thresh = threshold_yen(im_all_sub[0])\n",
    "im_all_mask = im_all_sub > thresh\n",
    "print(thresh)\n",
    "\n",
    "plt.imshow(im_all_mask[0], cmap='gray')\n",
    "plt.show()"
   ]
  },
  {
   "cell_type": "markdown",
   "metadata": {},
   "source": [
    "Let's have a closer look:"
   ]
  },
  {
   "cell_type": "code",
   "execution_count": null,
   "metadata": {},
   "outputs": [],
   "source": [
    "plt.imshow(im_all_mask[0,275:375,40:140], cmap='gray')\n",
    "plt.show()"
   ]
  },
  {
   "cell_type": "markdown",
   "metadata": {},
   "source": [
    "Although the result seems satisfying, a closer look reveals some rough edges and isolated pixels.  \n",
    "Some more processing will be required to avoid such problems."
   ]
  },
  {
   "cell_type": "markdown",
   "metadata": {},
   "source": [
    "**3.3)** Apply a Gaussian blur on \"*im_all_sub*\" using the `gaussian` function before thresholding, then remove small binary objects with `remove_small_objects`. "
   ]
  },
  {
   "cell_type": "code",
   "execution_count": null,
   "metadata": {},
   "outputs": [],
   "source": [
    "from skimage.filters import gaussian\n",
    "from skimage.morphology import remove_small_objects\n",
    "\n",
    "im_all_mask = gaussian(im_all_sub, 2, channel_axis=0) > thresh\n",
    "im_all_mask = remove_small_objects(im_all_mask, min_size=50)\n",
    "\n",
    "plt.imshow(im_all_mask[0,275:375,40:140], cmap='gray')\n",
    "plt.show()"
   ]
  },
  {
   "cell_type": "markdown",
   "metadata": {},
   "source": [
    "Now that we are satisfy with our mask we can display the segmentation results in napari. "
   ]
  },
  {
   "cell_type": "markdown",
   "metadata": {},
   "source": [
    "**3.4)** Generate binary object outlines and overlay them to \"*im_all_sub*\":"
   ]
  },
  {
   "cell_type": "code",
   "execution_count": null,
   "metadata": {},
   "outputs": [],
   "source": [
    "from skimage.morphology import dilation\n",
    "\n",
    "im_all_display = np.zeros_like(im_all)\n",
    "\n",
    "for i, mask in enumerate(im_all_mask):    \n",
    "    outlines = dilation(mask) ^ mask\n",
    "    outlines = outlines.astype('uint8')*255 \n",
    "    im_all_display[i,...] = np.maximum(im_all[i,...], outlines)"
   ]
  },
  {
   "cell_type": "code",
   "execution_count": null,
   "metadata": {},
   "outputs": [],
   "source": [
    "viewer = napari.view_image(im_all_display)"
   ]
  },
  {
   "cell_type": "markdown",
   "metadata": {},
   "source": [
    "### <span style=\"color:SteelBlue\"> Exercice 3"
   ]
  },
  {
   "cell_type": "markdown",
   "metadata": {},
   "source": [
    "In this exercise, you will encapsulate all segmentation steps we have done so far into a single function.  \n",
    "\n",
    "The function will take as arguments:  \n",
    "- a time series we want to process (\"*im_all*\")\n",
    "- a threshold coefficient to adjust the threshold retrieved using the yen method (see 3.2) \n",
    "- a sigma value to set the strength of the gaussian blur (see 3.3) \n",
    "- a minimum size in pixels to discard small binary objects (see 3.3) \n",
    "\n",
    "The function will output:  \n",
    "- a mask as \"*im_all_mask*\"\n",
    "- a display as \"*im_all_display*\" (see 3.4)"
   ]
  },
  {
   "cell_type": "code",
   "execution_count": null,
   "metadata": {},
   "outputs": [],
   "source": [
    "def im_segment(im_all, thresh_coeff=1.0, gaussian_sigma=2.0, min_size=50):\n",
    "        \n",
    "    # 1) subtract static background\n",
    "    # 2) get binary mask\n",
    "    # 3) make a display \n",
    "    \n",
    "    ...\n",
    "    \n",
    "    return im_all_mask, im_all_display "
   ]
  },
  {
   "cell_type": "code",
   "execution_count": null,
   "metadata": {},
   "outputs": [],
   "source": [
    "# Correction\n",
    "\n",
    "def im_segment(im_all, thresh_coeff=1.0, gaussian_sigma=2.0, min_size=50):\n",
    "    \n",
    "    # subtract static background\n",
    "    im_all_median = np.median(im_all, axis=0)\n",
    "    im_all_sub = np.subtract(im_all, im_all_median)\n",
    "    im_all_sub = invert(im_all_sub)\n",
    "\n",
    "    # get binary mask\n",
    "    im_all_mask = gaussian(im_all_sub, 2, channel_axis=0) > thresh*thresh_coeff\n",
    "    im_all_mask = remove_small_objects(im_all_mask, min_size=50)\n",
    "    \n",
    "    # make a display\n",
    "    for i, mask in enumerate(im_all_mask): \n",
    "        outlines = dilation(mask) ^ mask\n",
    "        outlines = outlines.astype('uint8')*255 \n",
    "        im_all_display[i,...] = np.maximum(im_all[i,...], outlines)\n",
    "        \n",
    "    return im_all_mask, im_all_display    "
   ]
  },
  {
   "cell_type": "markdown",
   "metadata": {},
   "source": [
    "Once the function is defined, you can modify parameters and display the results with napari:"
   ]
  },
  {
   "cell_type": "code",
   "execution_count": null,
   "metadata": {},
   "outputs": [],
   "source": [
    "im_all_mask, im_all_display = im_segment(im_all, thresh_coeff=1.0, gaussian_sigma=2.0, min_size=50)\n",
    "viewer = napari.view_image(im_all_display)"
   ]
  },
  {
   "cell_type": "markdown",
   "metadata": {},
   "source": [
    "---\n",
    "### 4) ???"
   ]
  },
  {
   "cell_type": "markdown",
   "metadata": {},
   "source": [
    "In this section we will inspect individual binary objects to determine if segmented flies are located in egg-laying areas. "
   ]
  },
  {
   "cell_type": "markdown",
   "metadata": {},
   "source": [
    "**4.1)** Attribute a unique ID to \"*im_all_mask*\" binary objects using the `label` function:"
   ]
  },
  {
   "cell_type": "code",
   "execution_count": null,
   "metadata": {},
   "outputs": [],
   "source": [
    "from skimage.morphology import label\n",
    "\n",
    "im_all_labels = np.zeros_like(im_all)\n",
    "for i, mask in enumerate(im_all_mask):       \n",
    "    im_all_labels[i,...] = label(mask)"
   ]
  },
  {
   "cell_type": "markdown",
   "metadata": {},
   "source": [
    "You can inspect attributed ID by importing \"*im_all_labels*\" as a label layer in napari:"
   ]
  },
  {
   "cell_type": "code",
   "execution_count": null,
   "metadata": {},
   "outputs": [],
   "source": [
    "# viewer = napari.view_labels(im_all_labels) # view_labels instead of view_image"
   ]
  },
  {
   "cell_type": "code",
   "execution_count": null,
   "metadata": {},
   "outputs": [],
   "source": [
    "max_id = 0\n",
    "for i, labels in enumerate(im_all_labels):\n",
    "    labels[labels != 0] += max_id\n",
    "    max_id += np.max(labels)\n",
    "    im_all_labels[i,...] = labels\n",
    "    "
   ]
  },
  {
   "cell_type": "code",
   "execution_count": null,
   "metadata": {},
   "outputs": [],
   "source": [
    "viewer = napari.view_labels(im_all_labels) # view_labels instead of view_image"
   ]
  },
  {
   "cell_type": "markdown",
   "metadata": {},
   "source": [
    "**4.2)** Extract binary objects size using the `label` function:"
   ]
  },
  {
   "cell_type": "code",
   "execution_count": null,
   "metadata": {},
   "outputs": [],
   "source": [
    "from skimage.measure import regionprops\n",
    "\n",
    "im_all_props = []\n",
    "\n",
    "for props in regionprops(im_all_labels):   \n",
    "    \n",
    "    temp_props = {\n",
    "        'label': props['label'],\n",
    "        'centroid': props['centroid'],\n",
    "        'area': props['area'],       \n",
    "        }\n",
    "    \n",
    "    im_all_props.append(temp_props)\n",
    "\n",
    "for props in im_all_props:        \n",
    "    print(props['centroid'])"
   ]
  }
 ],
 "metadata": {
  "kernelspec": {
   "display_name": "Python 3 (ipykernel)",
   "language": "python",
   "name": "python3"
  },
  "language_info": {
   "codemirror_mode": {
    "name": "ipython",
    "version": 3
   },
   "file_extension": ".py",
   "mimetype": "text/x-python",
   "name": "python",
   "nbconvert_exporter": "python",
   "pygments_lexer": "ipython3",
   "version": "3.8.13"
  }
 },
 "nbformat": 4,
 "nbformat_minor": 4
}
