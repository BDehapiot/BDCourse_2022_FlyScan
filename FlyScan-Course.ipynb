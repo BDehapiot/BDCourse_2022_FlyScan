{
 "cells": [
  {
   "cell_type": "markdown",
   "metadata": {},
   "source": [
    "## Studying *Drosophila* egg-laying behavior using automated image analysis with Python (FlyScan-Course)"
   ]
  },
  {
   "cell_type": "markdown",
   "metadata": {},
   "source": [
    "---\n",
    "### Introduction"
   ]
  },
  {
   "cell_type": "markdown",
   "metadata": {},
   "source": [
    "The goal of this course is to set up an automated procedure in Python to study the egg-laying behavior of *Drosophila*.  \n",
    "In the working directory you will find the \"*fly_images*\" folder which contains all images that will be analysed during the course.  \n",
    "The images show flies confined in a chamber with two egg-laying areas coated with different substrates (see picture below).   \n",
    "\n",
    "**Our task will be to automatically track flies within the chamber and determine if they preferentially stay in one of the egg-laying areas.**"
   ]
  },
  {
   "cell_type": "markdown",
   "metadata": {},
   "source": [
    "<img src=\"stock_images\\fly_chamber_diagram.jpg\" width=480 height=300 />"
   ]
  },
  {
   "cell_type": "markdown",
   "metadata": {
    "tags": []
   },
   "source": [
    "---\n",
    "### 1) Manage paths"
   ]
  },
  {
   "cell_type": "markdown",
   "metadata": {},
   "source": [
    "Here we will use [pathlib](https://docs.python.org/3/library/pathlib.html) library to simplify path management and avoid incompatibility between operating systems.  "
   ]
  },
  {
   "cell_type": "markdown",
   "metadata": {},
   "source": [
    "**1.1)** Import `Path` module from `pathlib` library and check the path to the current directory using `Path.cwd()`:"
   ]
  },
  {
   "cell_type": "code",
   "execution_count": null,
   "metadata": {},
   "outputs": [],
   "source": [
    "from pathlib import Path\n",
    "print(Path.cwd())"
   ]
  },
  {
   "cell_type": "markdown",
   "metadata": {},
   "source": [
    "This command should output the complete path to the downloaded directory.  \n",
    "Otherwise, the notebook was probably started from the wrong directory   "
   ]
  },
  {
   "cell_type": "markdown",
   "metadata": {},
   "source": [
    "**1.2)** Create a new path toward the \"*fly_images*\" folder contained in the downloaded directory: "
   ]
  },
  {
   "cell_type": "code",
   "execution_count": null,
   "metadata": {},
   "outputs": [],
   "source": [
    "im_path = Path('fly_images')"
   ]
  },
  {
   "cell_type": "markdown",
   "metadata": {},
   "source": [
    "Using this syntax, pathlib create a path object (or class) that can eventually be assigned to a variable (e.g. \"*im_path*\")  \n",
    "You can retrieve the full path toward \"*fly_images*\" folder by using the `resolve()` method:"
   ]
  },
  {
   "cell_type": "code",
   "execution_count": null,
   "metadata": {},
   "outputs": [],
   "source": [
    "print(im_path) # relative path\n",
    "print(im_path.resolve()) # full path\n",
    "print(Path('fly_images').resolve()) # full path"
   ]
  },
  {
   "cell_type": "markdown",
   "metadata": {},
   "source": [
    "**1.3)** Use the `iterdir()` method to extract the paths of images contained in the \"*fly_images*\" folder: "
   ]
  },
  {
   "cell_type": "code",
   "execution_count": null,
   "metadata": {},
   "outputs": [],
   "source": [
    "im_paths = [] # create an empty list\n",
    "for path in Path('fly_images').iterdir():\n",
    "    im_paths.append(path)"
   ]
  },
  {
   "cell_type": "markdown",
   "metadata": {},
   "source": [
    "Print path info for the first image:"
   ]
  },
  {
   "cell_type": "code",
   "execution_count": null,
   "metadata": {},
   "outputs": [],
   "source": [
    "print(im_paths[0]) # relative path \n",
    "print(im_paths[0].resolve()) # full path"
   ]
  },
  {
   "cell_type": "markdown",
   "metadata": {},
   "source": [
    "Note that you can use attributes of the path object to retrieve informations about your image: "
   ]
  },
  {
   "cell_type": "code",
   "execution_count": null,
   "metadata": {},
   "outputs": [],
   "source": [
    "print(im_paths[0].name) # name\n",
    "print(im_paths[0].stem) # name without extension\n",
    "print(im_paths[0].suffix) # extension only"
   ]
  },
  {
   "cell_type": "markdown",
   "metadata": {},
   "source": [
    "---\n",
    "### 2) Import images "
   ]
  },
  {
   "cell_type": "markdown",
   "metadata": {},
   "source": [
    "**2.1)** Now that our image paths have been stored in \"*im_paths*\" , import the first image using the `io.imread` function from [skimage](https://scikit-image.org/) library:"
   ]
  },
  {
   "cell_type": "code",
   "execution_count": null,
   "metadata": {},
   "outputs": [],
   "source": [
    "from skimage import io\n",
    "im_first = io.imread(im_paths[0])"
   ]
  },
  {
   "cell_type": "markdown",
   "metadata": {},
   "source": [
    "This command import the first image as a numpy array, which is a handy format to manipulate images in Python.    \n",
    "Check \"im_first\" type using the `type` function:"
   ]
  },
  {
   "cell_type": "code",
   "execution_count": null,
   "metadata": {},
   "outputs": [],
   "source": [
    "print(type(im_first))"
   ]
  },
  {
   "cell_type": "markdown",
   "metadata": {},
   "source": [
    "**2.2)** Determine height and width of \"*im_first*\" using the `shape` attribute:"
   ]
  },
  {
   "cell_type": "code",
   "execution_count": null,
   "metadata": {},
   "outputs": [],
   "source": [
    "print(im_first.shape) # 2 elements tuple\n",
    "im_height = im_first.shape[0]\n",
    "im_width = im_first.shape[1]"
   ]
  },
  {
   "cell_type": "markdown",
   "metadata": {},
   "source": [
    "**2.3)** Count the total number of images using the `len` function on \"image_paths\":  "
   ]
  },
  {
   "cell_type": "code",
   "execution_count": null,
   "metadata": {},
   "outputs": [],
   "source": [
    "im_count = len(im_paths)\n",
    "print(im_count)"
   ]
  },
  {
   "cell_type": "markdown",
   "metadata": {},
   "source": [
    "### <span style=\"color:SteelBlue\"> Exercice 1"
   ]
  },
  {
   "cell_type": "markdown",
   "metadata": {},
   "source": [
    "In this exercice you will import all images contained in \"*fly_images*\" folder as a 3D numpy array named \"*im_all*\".  \n",
    "- Hint: create a zero array with the `np.zeros` function and fill it with imported images."
   ]
  },
  {
   "cell_type": "code",
   "execution_count": null,
   "metadata": {},
   "outputs": [],
   "source": [
    "import numpy as np"
   ]
  },
  {
   "cell_type": "code",
   "execution_count": null,
   "metadata": {},
   "outputs": [],
   "source": [
    "# 1) create a zero array with shape (im_count, im_height, im_width)\n",
    "# 2) fill this array with imported images"
   ]
  },
  {
   "cell_type": "markdown",
   "metadata": {},
   "source": [
    "You can visualize the 3D array as a time series in napari: "
   ]
  },
  {
   "cell_type": "code",
   "execution_count": null,
   "metadata": {},
   "outputs": [],
   "source": [
    "import napari\n",
    "viewer = napari.view_image(im_all)"
   ]
  },
  {
   "cell_type": "markdown",
   "metadata": {},
   "source": [
    "---\n",
    "### 3) Segment flies"
   ]
  },
  {
   "cell_type": "markdown",
   "metadata": {},
   "source": [
    "In this section, we will design a series of operations to automatically segment flies from the static background.  \n",
    "To do this, we will process images using the [numpy](https://numpy.org/doc/stable/user/index.html) and [skimage](https://scikit-image.org/) libraries and display the results using [matplotlib](https://matplotlib.org/stable/plot_types/index#).   \n",
    "Here is an example to get started:"
   ]
  },
  {
   "cell_type": "markdown",
   "metadata": {},
   "source": [
    "**3.1)** Compute the min and the max projection (over images) of \"*im_all*\" and display the results with matplotlib: "
   ]
  },
  {
   "cell_type": "code",
   "execution_count": null,
   "metadata": {},
   "outputs": [],
   "source": [
    "import matplotlib.pyplot as plt\n",
    "\n",
    "# compute min and max projections\n",
    "im_all_min = np.min(im_all, axis=0)\n",
    "im_all_max = np.max(im_all, axis=0)\n",
    "\n",
    "# display results with matplotlib\n",
    "fig, ax = plt.subplots(nrows=1, ncols=2, figsize=(12, 12))\n",
    "ax[0].imshow(im_all_min, cmap='gray')\n",
    "ax[0].set_title('min projection')\n",
    "ax[1].imshow(im_all_max, cmap='gray')\n",
    "ax[1].set_title('max projection')\n",
    "plt.show()"
   ]
  },
  {
   "cell_type": "markdown",
   "metadata": {},
   "source": [
    "\n",
    "### <span style=\"color:SteelBlue\"> Exercice 2"
   ]
  },
  {
   "cell_type": "markdown",
   "metadata": {},
   "source": [
    "In this exercice you will compute the median projection of \"*im_all*\" and subtract it to \"*im_all*\" itself.  \n",
    "You will then display the result for the first image using matplotlib.  \n",
    "- Hint #1: use `np.median` and `np.subtract` functions.  \n",
    "- Hint #2: do not modify the \"*im_all*\" variable as we will use it later."
   ]
  },
  {
   "cell_type": "code",
   "execution_count": null,
   "metadata": {},
   "outputs": [],
   "source": [
    "# 1) compute median projection (im_all_median)\n",
    "# 2) subtract median projection from raw images (im_all_sub)\n",
    "# 3) display result for the first image in matplotlib"
   ]
  },
  {
   "cell_type": "markdown",
   "metadata": {},
   "source": [
    "For convenience, invert \"*im_all_sub*\" to make fly pixels brighter than the backgorund. "
   ]
  },
  {
   "cell_type": "code",
   "execution_count": null,
   "metadata": {},
   "outputs": [],
   "source": [
    "from skimage.util import invert\n",
    "\n",
    "im_all_sub = invert(im_all_sub)\n",
    "plt.imshow(im_all_sub[0], cmap='gray')\n",
    "plt.show()"
   ]
  },
  {
   "cell_type": "markdown",
   "metadata": {},
   "source": [
    "The next step will consists of separating pixels belonging to flies from those belonging to the background.  \n",
    "Here, we will first apply a threshold, based on pixel intensity, to \"*im_all_sub*\". "
   ]
  },
  {
   "cell_type": "markdown",
   "metadata": {},
   "source": [
    "**3.2)** Determine a threshold value using the `threshold_yen` function and use it to create a binary mask:"
   ]
  },
  {
   "cell_type": "code",
   "execution_count": null,
   "metadata": {},
   "outputs": [],
   "source": [
    "from skimage.filters import threshold_yen\n",
    "\n",
    "thresh = threshold_yen(im_all_sub[0])\n",
    "im_all_mask = im_all_sub > thresh\n",
    "print(thresh)\n",
    "\n",
    "plt.imshow(im_all_mask[0], cmap='gray')\n",
    "plt.show()"
   ]
  },
  {
   "cell_type": "markdown",
   "metadata": {},
   "source": [
    "Let's have a closer look:"
   ]
  },
  {
   "cell_type": "code",
   "execution_count": null,
   "metadata": {},
   "outputs": [],
   "source": [
    "plt.imshow(im_all_mask[0,275:375,40:140], cmap='gray')\n",
    "plt.show()"
   ]
  },
  {
   "cell_type": "markdown",
   "metadata": {},
   "source": [
    "Although the result seems satisfying, a closer look reveals some rough edges and isolated pixels.  \n",
    "Some more processing will be required to avoid such problems."
   ]
  },
  {
   "cell_type": "markdown",
   "metadata": {},
   "source": [
    "**3.3)** Apply a Gaussian blur on \"*im_all_sub*\" using the `gaussian` function before thresholding, then remove small binary objects with `remove_small_objects`. "
   ]
  },
  {
   "cell_type": "code",
   "execution_count": null,
   "metadata": {},
   "outputs": [],
   "source": [
    "from skimage.filters import gaussian\n",
    "from skimage.morphology import remove_small_objects\n",
    "\n",
    "im_all_mask = gaussian(im_all_sub, 2, channel_axis=0) > thresh\n",
    "im_all_mask = remove_small_objects(im_all_mask, min_size=50)\n",
    "\n",
    "plt.imshow(im_all_mask[0,275:375,40:140], cmap='gray')\n",
    "plt.show()"
   ]
  },
  {
   "cell_type": "markdown",
   "metadata": {},
   "source": [
    "Another problem is that some segmented objects touch image boundaries:"
   ]
  },
  {
   "cell_type": "code",
   "execution_count": null,
   "metadata": {},
   "outputs": [],
   "source": [
    "plt.imshow(im_all_mask[12,0:100,20:120], cmap='gray')\n",
    "plt.show()"
   ]
  },
  {
   "cell_type": "markdown",
   "metadata": {},
   "source": [
    "**3.4)** Remove binary objects that touch image borders using the `clear_border` function:"
   ]
  },
  {
   "cell_type": "code",
   "execution_count": null,
   "metadata": {},
   "outputs": [],
   "source": [
    "from skimage.segmentation import clear_border\n",
    "\n",
    "im_all_mask = clear_border(im_all_mask)"
   ]
  },
  {
   "cell_type": "code",
   "execution_count": null,
   "metadata": {},
   "outputs": [],
   "source": [
    "plt.imshow(im_all_mask[12,0:100,20:120], cmap='gray')\n",
    "plt.show()"
   ]
  },
  {
   "cell_type": "markdown",
   "metadata": {},
   "source": [
    "Now that we are satisfy with our mask we can display the segmentation results in napari. "
   ]
  },
  {
   "cell_type": "markdown",
   "metadata": {},
   "source": [
    "**3.5)** Generate binary object outlines and overlay them to \"*im_all_sub*\":"
   ]
  },
  {
   "cell_type": "code",
   "execution_count": null,
   "metadata": {},
   "outputs": [],
   "source": [
    "from skimage.morphology import dilation\n",
    "\n",
    "im_all_mask_display = np.zeros_like(im_all)\n",
    "\n",
    "for i, mask in enumerate(im_all_mask):    \n",
    "    outlines = dilation(mask) ^ mask\n",
    "    outlines = outlines.astype('uint8')*255 \n",
    "    im_all_mask_display[i,...] = np.maximum(im_all[i,...], outlines)"
   ]
  },
  {
   "cell_type": "code",
   "execution_count": null,
   "metadata": {},
   "outputs": [],
   "source": [
    "viewer = napari.view_image(im_all_mask_display)"
   ]
  },
  {
   "cell_type": "markdown",
   "metadata": {},
   "source": [
    "### <span style=\"color:SteelBlue\"> Exercice 3"
   ]
  },
  {
   "cell_type": "markdown",
   "metadata": {},
   "source": [
    "In this exercise, you will encapsulate all segmentation steps we have done so far in two separate functions.  "
   ]
  },
  {
   "cell_type": "markdown",
   "metadata": {},
   "source": [
    "1 - The first function, `im_segment`, that will output a binary mask from raw images (see steps 3.1 to 3.4):\n",
    "\n",
    "with the following arguments:  \n",
    "- a time series we want to process (\"*im_all*\")\n",
    "- a threshold coefficient to adjust the threshold retrieved using the yen method\n",
    "- a sigma value to set the strength of the gaussian blur\n",
    "- a minimum size in pixels to discard small binary objects\n",
    "\n",
    "and the following output:  \n",
    "- a mask as \"*im_all_mask*\"  "
   ]
  },
  {
   "cell_type": "markdown",
   "metadata": {},
   "source": [
    "2 - The second function, `im_display`, will output a display from a binary mask (see step 3.5):  \n",
    "\n",
    "with the following argument:  \n",
    "- a mask we want to display (\"*im_all_mask*\")\n",
    "\n",
    "and the following output:\n",
    "- a display as \"*im_all_display*\""
   ]
  },
  {
   "cell_type": "code",
   "execution_count": null,
   "metadata": {},
   "outputs": [],
   "source": [
    "def im_segment(im_all, thresh_coeff=1.0, gaussian_sigma=2.0, min_size=50):\n",
    "        \n",
    "    # 1) subtract static background\n",
    "    # 2) get binary mask\n",
    "    \n",
    "    ...\n",
    "    \n",
    "    return im_all_mask"
   ]
  },
  {
   "cell_type": "code",
   "execution_count": null,
   "metadata": {},
   "outputs": [],
   "source": [
    "def im_display(im_all_mask):\n",
    "        \n",
    "    # 1) make a display\n",
    "    \n",
    "    ...\n",
    "    \n",
    "    return im_all_display"
   ]
  },
  {
   "cell_type": "markdown",
   "metadata": {},
   "source": [
    "Once the function is defined, you can modify parameters and display the results with napari:"
   ]
  },
  {
   "cell_type": "code",
   "execution_count": null,
   "metadata": {},
   "outputs": [],
   "source": [
    "im_all_mask = im_segment(im_all, thresh_coeff=1.0, gaussian_sigma=2.0, min_size=50)\n",
    "im_all_mask_display = im_display(im_all_mask)\n",
    "\n",
    "viewer = napari.view_image(im_all_mask_display)"
   ]
  },
  {
   "cell_type": "markdown",
   "metadata": {},
   "source": [
    "---\n",
    "### 4) Filter binary objects"
   ]
  },
  {
   "cell_type": "markdown",
   "metadata": {},
   "source": [
    "In this section, we will inspect individual binary objects and determine if segmented flies are standing in one or the other egg-laying areas.  \n",
    "We will of course monitor fly positions according to egg-laying areas, but we will also take into account that some flies may be walking on the ceiling instead of standing at the bottom of the chamber."
   ]
  },
  {
   "cell_type": "code",
   "execution_count": null,
   "metadata": {},
   "outputs": [],
   "source": [
    "plt.imshow(im_all[10,260:435,440:615], cmap='gray')\n",
    "plt.show()"
   ]
  },
  {
   "cell_type": "markdown",
   "metadata": {},
   "source": [
    "Here, the right fly is for example walking on the ceiling while the left one is standing in the bottom of the chamber.  \n",
    "Note that being out of focus, the ceiling fly looks bigger than the other one."
   ]
  },
  {
   "cell_type": "markdown",
   "metadata": {},
   "source": [
    "**4.1)** Import and display the binary mask of the egg-laying areas:"
   ]
  },
  {
   "cell_type": "code",
   "execution_count": null,
   "metadata": {},
   "outputs": [],
   "source": [
    "egglay_mask = io.imread(Path('stock_images', 'DUP(HistMatch)_21-01-06_Pi04_Chamber-Mask.tif'))\n",
    "                         \n",
    "plt.imshow(egglay_mask, cmap='gray')\n",
    "plt.show()"
   ]
  },
  {
   "cell_type": "markdown",
   "metadata": {},
   "source": [
    "**4.2)** Attribute unique IDs to \"*im_all_mask*\" binary objects using the `label` function:"
   ]
  },
  {
   "cell_type": "code",
   "execution_count": null,
   "metadata": {},
   "outputs": [],
   "source": [
    "from skimage.morphology import label\n",
    "\n",
    "im_all_labels = np.zeros_like(im_all)\n",
    "\n",
    "max_id = 0 # initialize max_id\n",
    "for i, mask in enumerate(im_all_mask):  \n",
    "    \n",
    "    labels = label(mask)   \n",
    "    labels[labels != 0] += max_id\n",
    "    im_all_labels[i,...] = labels\n",
    "    \n",
    "    if np.max(labels) != 0:\n",
    "        max_id = np.max(labels) # update max_id"
   ]
  },
  {
   "cell_type": "markdown",
   "metadata": {},
   "source": [
    "Note that the max_id counter is necessary to get unique id for all binary objects.  \n",
    "Indeed, as it is implemented for now, the skimage label function reinitializes labels for each image in our time series. "
   ]
  },
  {
   "cell_type": "markdown",
   "metadata": {
    "tags": []
   },
   "source": [
    "You can inspect attributed ID by importing \"*im_all_labels*\" as a label layer in napari:"
   ]
  },
  {
   "cell_type": "code",
   "execution_count": null,
   "metadata": {},
   "outputs": [],
   "source": [
    "viewer = napari.view_labels(im_all_labels) # view_labels instead of view_image"
   ]
  },
  {
   "cell_type": "markdown",
   "metadata": {},
   "source": [
    "**4.3)** Extract labeled object properties using the `regionprops` function:"
   ]
  },
  {
   "cell_type": "code",
   "execution_count": null,
   "metadata": {},
   "outputs": [],
   "source": [
    "from skimage.measure import regionprops\n",
    "\n",
    "im_all_props = []\n",
    "\n",
    "# repeat the egglay_mask to match im_all_labels dimensions\n",
    "egglay_mask_tiled = np.tile(egglay_mask, (im_count, 1, 1)) \n",
    "\n",
    "for props in regionprops(im_all_labels, egglay_mask_tiled):   \n",
    "    \n",
    "    temp_props = {       \n",
    "        'area': props['area'],\n",
    "        'coords': props['coords'],\n",
    "        'int_mean': props['intensity_mean']\n",
    "        }\n",
    "    \n",
    "    im_all_props.append(temp_props)    "
   ]
  },
  {
   "cell_type": "markdown",
   "metadata": {},
   "source": [
    "The \"*egglay_mask_tiled*\" is used as the second argument of the `regionprops` function.  \n",
    "This means that \"*egglay_mask_tiled*\" is the intensity image on which the 'intensity_mean' will be measured (see [regionprops](https://scikit-image.org/docs/dev/api/skimage.measure.html#skimage.measure.regionprops) for more information)."
   ]
  },
  {
   "cell_type": "markdown",
   "metadata": {},
   "source": [
    "**4.4)** Extract labeled object areas and plot the area distribution using the `plt.hist` function:"
   ]
  },
  {
   "cell_type": "code",
   "execution_count": null,
   "metadata": {},
   "outputs": [],
   "source": [
    "areas = [props['area'] for props in im_all_props] # list comprehension to extract areas\n",
    "\n",
    "plt.hist(areas, bins=100, range=(0, 1200))\n",
    "plt.show()"
   ]
  },
  {
   "cell_type": "markdown",
   "metadata": {},
   "source": [
    "As you can see, a main peak emerges around 500 pixels area.  \n",
    "This corresponds to the typical area of flies lying at the bottom of the chamber.  "
   ]
  },
  {
   "cell_type": "markdown",
   "metadata": {},
   "source": [
    "### <span style=\"color:SteelBlue\"> Exercice 4"
   ]
  },
  {
   "cell_type": "markdown",
   "metadata": {},
   "source": [
    "In this last exercise, you will isolate \"valid flies\" standing, at the bottom of the chamber, in either of the egg-laying areas.  \n",
    "To do that, you will first extract the y and x coordinate of valid fly centroids and store them as a tuple in the *\"coords_filt\"* list.   \n",
    "You will then create *\"im_all_mask_filt\"* which will contain only the binary objects of the valid flies.\n",
    "- Hint #1: use conditional statements.  \n",
    "- Hint #2: centroids can be extracted from coordinates using `np.mean` function.  \n",
    "- Hint #3: centroids must be integer, use `int` function.  "
   ]
  },
  {
   "cell_type": "code",
   "execution_count": null,
   "metadata": {},
   "outputs": [],
   "source": [
    "coords_filt = [] # list in which you will store y and x centroids as a tuple\n",
    "im_all_mask_filt = np.zeros_like(im_all_mask) # empty mask in which you will add binary object corresponding to valid flies\n",
    "\n",
    "for props in im_all_props:\n",
    "    \n",
    "    # extract coords\n",
    "    coords_t = props['coords'][:,0]\n",
    "    coords_y = props['coords'][:,1]\n",
    "    coords_x = props['coords'][:,2]\n",
    "        \n",
    "    # 1) extract \"valid fly\" centroids   \n",
    "    \n",
    "    # 2) add \"valid fly\" binary objects\n",
    "     \n",
    "    ..."
   ]
  },
  {
   "cell_type": "markdown",
   "metadata": {},
   "source": [
    "Visualize valid fly centroids using a point layer overlayed to \"*im_all_median*\" in napari:"
   ]
  },
  {
   "cell_type": "code",
   "execution_count": null,
   "metadata": {},
   "outputs": [],
   "source": [
    "viewer = napari.view_image(im_all_median)\n",
    "viewer.add_points(np.array(centroid_filt), size=10)"
   ]
  },
  {
   "cell_type": "markdown",
   "metadata": {},
   "source": [
    "Create a display for \"*im_all_mask_filt*\" and show the result in napari:"
   ]
  },
  {
   "cell_type": "code",
   "execution_count": null,
   "metadata": {},
   "outputs": [],
   "source": [
    "im_all_mask_filt_display = im_display(im_all_mask_filt)\n",
    "viewer = napari.view_image(im_all_mask_filt_display)"
   ]
  }
 ],
 "metadata": {
  "kernelspec": {
   "display_name": "Python 3 (ipykernel)",
   "language": "python",
   "name": "python3"
  },
  "language_info": {
   "codemirror_mode": {
    "name": "ipython",
    "version": 3
   },
   "file_extension": ".py",
   "mimetype": "text/x-python",
   "name": "python",
   "nbconvert_exporter": "python",
   "pygments_lexer": "ipython3",
   "version": "3.8.13"
  }
 },
 "nbformat": 4,
 "nbformat_minor": 4
}
